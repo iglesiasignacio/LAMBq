{
 "cells": [
  {
   "cell_type": "code",
   "execution_count": 33,
   "id": "386b84dc",
   "metadata": {},
   "outputs": [
    {
     "name": "stderr",
     "output_type": "stream",
     "text": [
      "loader - Data loaded successfully from /Users/iiglesias/Documents/LAMBq/data/SWOW-EN.R100.20180827.csv\n",
      "generator - Loading graph from cache: cache/graph_65df70897d72076194e86023ec39051b5f97fd2a3a13e7822901d17b78f0cd79.pkl\n",
      "node_embedding - Loading embeddings from cache: cache/embeddings_a5c93c14bb26fd5fc164030a5c3956c09ebbc520be5696e069ef307c43f7ea41_400.pkl\n",
      "comm_detection - Processing word 1/3: bank\n",
      "generator - Preprocessing graph for word: bank, k=2.\n",
      "generator - Pruning edges with weight less than 0.02.\n",
      "comm_detection - Processing word 2/3: bark\n",
      "generator - Preprocessing graph for word: bark, k=2.\n",
      "generator - Pruning edges with weight less than 0.02.\n",
      "comm_detection - Processing word 3/3: peak\n",
      "generator - Preprocessing graph for word: peak, k=2.\n",
      "generator - Pruning edges with weight less than 0.02.\n"
     ]
    },
    {
     "data": {
      "text/html": [
       "<div>\n",
       "<style scoped>\n",
       "    .dataframe tbody tr th:only-of-type {\n",
       "        vertical-align: middle;\n",
       "    }\n",
       "\n",
       "    .dataframe tbody tr th {\n",
       "        vertical-align: top;\n",
       "    }\n",
       "\n",
       "    .dataframe thead th {\n",
       "        text-align: right;\n",
       "    }\n",
       "</style>\n",
       "<table border=\"1\" class=\"dataframe\">\n",
       "  <thead>\n",
       "    <tr style=\"text-align: right;\">\n",
       "      <th></th>\n",
       "      <th>word</th>\n",
       "      <th>Ambiguity</th>\n",
       "      <th>N</th>\n",
       "      <th>Entropy</th>\n",
       "      <th>Dissimilarity</th>\n",
       "      <th>Dominance</th>\n",
       "    </tr>\n",
       "  </thead>\n",
       "  <tbody>\n",
       "    <tr>\n",
       "      <th>0</th>\n",
       "      <td>bank</td>\n",
       "      <td>0.495364</td>\n",
       "      <td>2</td>\n",
       "      <td>0.577004</td>\n",
       "      <td>0.85851</td>\n",
       "      <td>0.862745</td>\n",
       "    </tr>\n",
       "    <tr>\n",
       "      <th>1</th>\n",
       "      <td>bark</td>\n",
       "      <td>0.249145</td>\n",
       "      <td>4</td>\n",
       "      <td>0.298169</td>\n",
       "      <td>0.835581</td>\n",
       "      <td>0.906404</td>\n",
       "    </tr>\n",
       "    <tr>\n",
       "      <th>2</th>\n",
       "      <td>peak</td>\n",
       "      <td>0</td>\n",
       "      <td>1</td>\n",
       "      <td>0</td>\n",
       "      <td>0</td>\n",
       "      <td>1.000000</td>\n",
       "    </tr>\n",
       "  </tbody>\n",
       "</table>\n",
       "</div>"
      ],
      "text/plain": [
       "   word Ambiguity  N   Entropy Dissimilarity  Dominance\n",
       "0  bank  0.495364  2  0.577004       0.85851   0.862745\n",
       "1  bark  0.249145  4  0.298169      0.835581   0.906404\n",
       "2  peak         0  1         0             0   1.000000"
      ]
     },
     "execution_count": 33,
     "metadata": {},
     "output_type": "execute_result"
    }
   ],
   "source": [
    "import sys\n",
    "import os\n",
    "sys.path.append(os.path.abspath(\"..\"))\n",
    "\n",
    "from src.pipeline import run_ambiguity_pipeline\n",
    "import pandas as pd\n",
    "\n",
    "words = [\"bank\", \"bark\", \"peak\"]\n",
    "amb_results = run_ambiguity_pipeline(words, postprocess=True)\n",
    "\n",
    "tmp = pd.DataFrame(amb_results).T # results to dataframe\n",
    "\n",
    "tmp['N'] = tmp['norms'].apply(len)\n",
    "tmp['Dominance'] = tmp['norms'].apply(lambda x: max(x)/sum(x))\n",
    "\n",
    "tmp = tmp.reset_index(names='word')\n",
    "tmp = tmp[['word', 'ambiguity', 'N', 'entropy_coef', 'disimilarity_coef', 'Dominance']]\n",
    "df = tmp.rename(columns={'ambiguity': 'Ambiguity', 'entropy_coef': 'Entropy', 'disimilarity_coef': 'Dissimilarity'})\n",
    "df\n",
    "# df.to_csv(YOUR_PATH) # uncomment to save ambiguity norms for a set of words of your choice"
   ]
  }
 ],
 "metadata": {
  "kernelspec": {
   "display_name": "venv",
   "language": "python",
   "name": "python3"
  },
  "language_info": {
   "codemirror_mode": {
    "name": "ipython",
    "version": 3
   },
   "file_extension": ".py",
   "mimetype": "text/x-python",
   "name": "python",
   "nbconvert_exporter": "python",
   "pygments_lexer": "ipython3",
   "version": "3.12.4"
  }
 },
 "nbformat": 4,
 "nbformat_minor": 5
}
